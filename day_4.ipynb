{
 "cells": [
  {
   "cell_type": "raw",
   "metadata": {},
   "source": [
    "# Implement deletion operation from the end of the linked list and Insertion operation from the\n",
    "beginning of the linked list"
   ]
  },
  {
   "cell_type": "code",
   "execution_count": 75,
   "metadata": {},
   "outputs": [],
   "source": []
  },
  {
   "cell_type": "code",
   "execution_count": 81,
   "metadata": {},
   "outputs": [],
   "source": [
    "class Node:\n",
    "    def __init__(self,data):\n",
    "        self.data=data\n",
    "        self.next=None\n",
    "class linklist:\n",
    "    def __init__(self):\n",
    "        self.head=None\n",
    "    def addbeg(self,newdata):\n",
    "        newnode=Node(newdata)\n",
    "        newnode.next=self.head\n",
    "        self.head=newnode\n",
    "    def delend(self):\n",
    "        val=self.head\n",
    "        self.head=val.next\n",
    "        val = None\n",
    "        return\n",
    "    def display(self):\n",
    "        val=self.head\n",
    "        while val is not None:\n",
    "            print(val.data)\n",
    "            val = val.next\n",
    "        "
   ]
  },
  {
   "cell_type": "code",
   "execution_count": 82,
   "metadata": {},
   "outputs": [],
   "source": [
    "l = linklist()"
   ]
  },
  {
   "cell_type": "code",
   "execution_count": 83,
   "metadata": {
    "scrolled": true
   },
   "outputs": [
    {
     "name": "stdout",
     "output_type": "stream",
     "text": [
      "20\n",
      "10\n"
     ]
    }
   ],
   "source": [
    "l.addbeg(10)\n",
    "l.addbeg(20)\n",
    "l.addbeg(30)\n",
    "l.delend()\n",
    "l.display()"
   ]
  },
  {
   "cell_type": "raw",
   "metadata": {},
   "source": [
    "Binary search"
   ]
  },
  {
   "cell_type": "code",
   "execution_count": 88,
   "metadata": {},
   "outputs": [
    {
     "name": "stdout",
     "output_type": "stream",
     "text": [
      "Enter values: 5 8 6 4 9 2\n",
      "Enter the item to search: 5\n",
      "Element is present at index 0\n"
     ]
    }
   ],
   "source": [
    "l = [int(i) for i in input('Enter values: ').split()]\n",
    "x = int(input('Enter the item to search: '))\n",
    "\n",
    "def binary_search(arr, x): \n",
    "    low = 0\n",
    "    high = len(l) - 1\n",
    "    mid = 0\n",
    "  \n",
    "    while low <= high: \n",
    "  \n",
    "        mid = (high + low) // 2\n",
    "   \n",
    "        if arr[mid] < x: \n",
    "            low = mid + 1\n",
    "  \n",
    "        elif arr[mid] > x: \n",
    "            high = mid - 1\n",
    "  \n",
    "        else: \n",
    "            return mid \n",
    "  \n",
    "    return -1\n",
    " \n",
    "result = binary_search(l, x)\n",
    "if result != -1: \n",
    "    print(\"Element is present at index\", str(result)) \n",
    "else: \n",
    "    print(\"Element is not present in array\") \n",
    "  "
   ]
  },
  {
   "cell_type": "code",
   "execution_count": null,
   "metadata": {},
   "outputs": [],
   "source": []
  },
  {
   "cell_type": "code",
   "execution_count": null,
   "metadata": {},
   "outputs": [],
   "source": []
  },
  {
   "cell_type": "code",
   "execution_count": 95,
   "metadata": {},
   "outputs": [],
   "source": [
    "class Node:\n",
    "    def __init__(self,data):\n",
    "        self.data=data\n",
    "        self.next=None\n",
    "        \n",
    "class linklist:\n",
    "    def __init__(self):\n",
    "        self.head=None\n",
    "        \n",
    "    def addbeg(self,newdata):\n",
    "        newnode=Node(newdata)\n",
    "        newnode.next=self.head\n",
    "        self.head=newnode\n",
    "    \n",
    "    def display(self):\n",
    "        val=self.head\n",
    "        while val is not None:\n",
    "            print(val.data)\n",
    "            val = val.next\n",
    "    def printMiddle(self): \n",
    "        s = self.head \n",
    "        f = self.head \n",
    "  \n",
    "        if self.head is not None: \n",
    "            while (f is not None and f.next is not None): \n",
    "                f = f.next.next\n",
    "                s = s.next\n",
    "            print(\"The middle element is: \", s.data)        \n",
    "        "
   ]
  },
  {
   "cell_type": "code",
   "execution_count": 96,
   "metadata": {},
   "outputs": [
    {
     "name": "stdout",
     "output_type": "stream",
     "text": [
      "The middle element is:  20\n",
      "30\n",
      "20\n",
      "10\n"
     ]
    }
   ],
   "source": [
    "l=linklist()\n",
    "l.addbeg(10)\n",
    "l.addbeg(20)\n",
    "l.addbeg(30)\n",
    "l.printMiddle()\n",
    "l.display()"
   ]
  },
  {
   "cell_type": "code",
   "execution_count": null,
   "metadata": {},
   "outputs": [],
   "source": []
  }
 ],
 "metadata": {
  "kernelspec": {
   "display_name": "Python 3",
   "language": "python",
   "name": "python3"
  },
  "language_info": {
   "codemirror_mode": {
    "name": "ipython",
    "version": 3
   },
   "file_extension": ".py",
   "mimetype": "text/x-python",
   "name": "python",
   "nbconvert_exporter": "python",
   "pygments_lexer": "ipython3",
   "version": "3.7.6"
  }
 },
 "nbformat": 4,
 "nbformat_minor": 4
}
